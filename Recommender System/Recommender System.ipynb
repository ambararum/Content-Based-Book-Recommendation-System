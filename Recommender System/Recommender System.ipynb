{
  "cells": [
    {
      "cell_type": "markdown",
      "metadata": {
        "id": "bbiBYjOQe0U2"
      },
      "source": [
        "# **Sistem Rekomendasi Buku Berbasis Content-Based Filtering Menggunakan Cosine Similarity untuk Menyediakan Saran Bacaan Berdasarkan Kesamaan Konten**"
      ]
    },
    {
      "cell_type": "markdown",
      "source": [
        "## **Instalasi Pustaka yang Dibutuhkan**"
      ],
      "metadata": {
        "id": "To95WkcDhrMx"
      }
    },
    {
      "cell_type": "code",
      "execution_count": null,
      "metadata": {
        "colab": {
          "base_uri": "https://localhost:8080/"
        },
        "id": "WUWvlkB4eQhO",
        "outputId": "82937249-bd4c-43fd-d0af-1f31f0ce9d53"
      },
      "outputs": [
        {
          "output_type": "stream",
          "name": "stdout",
          "text": [
            "Requirement already satisfied: pandas in /usr/local/lib/python3.10/dist-packages (2.2.2)\n",
            "Requirement already satisfied: scikit-learn in /usr/local/lib/python3.10/dist-packages (1.5.2)\n",
            "Requirement already satisfied: nltk in /usr/local/lib/python3.10/dist-packages (3.9.1)\n",
            "Requirement already satisfied: numpy>=1.22.4 in /usr/local/lib/python3.10/dist-packages (from pandas) (1.26.4)\n",
            "Requirement already satisfied: python-dateutil>=2.8.2 in /usr/local/lib/python3.10/dist-packages (from pandas) (2.8.2)\n",
            "Requirement already satisfied: pytz>=2020.1 in /usr/local/lib/python3.10/dist-packages (from pandas) (2024.2)\n",
            "Requirement already satisfied: tzdata>=2022.7 in /usr/local/lib/python3.10/dist-packages (from pandas) (2024.2)\n",
            "Requirement already satisfied: scipy>=1.6.0 in /usr/local/lib/python3.10/dist-packages (from scikit-learn) (1.13.1)\n",
            "Requirement already satisfied: joblib>=1.2.0 in /usr/local/lib/python3.10/dist-packages (from scikit-learn) (1.4.2)\n",
            "Requirement already satisfied: threadpoolctl>=3.1.0 in /usr/local/lib/python3.10/dist-packages (from scikit-learn) (3.5.0)\n",
            "Requirement already satisfied: click in /usr/local/lib/python3.10/dist-packages (from nltk) (8.1.7)\n",
            "Requirement already satisfied: regex>=2021.8.3 in /usr/local/lib/python3.10/dist-packages (from nltk) (2024.9.11)\n",
            "Requirement already satisfied: tqdm in /usr/local/lib/python3.10/dist-packages (from nltk) (4.66.6)\n",
            "Requirement already satisfied: six>=1.5 in /usr/local/lib/python3.10/dist-packages (from python-dateutil>=2.8.2->pandas) (1.16.0)\n"
          ]
        }
      ],
      "source": [
        "pip install pandas scikit-learn nltk\n"
      ]
    },
    {
      "cell_type": "code",
      "execution_count": null,
      "metadata": {
        "colab": {
          "base_uri": "https://localhost:8080/"
        },
        "id": "fVhH5mzBlE1w",
        "outputId": "f1e8229c-555c-4f4e-ef50-aa5913c0317c"
      },
      "outputs": [
        {
          "output_type": "stream",
          "name": "stdout",
          "text": [
            "Mounted at /content/drive\n"
          ]
        }
      ],
      "source": [
        "from google.colab import drive\n",
        "drive.mount('/content/drive')"
      ]
    },
    {
      "cell_type": "code",
      "execution_count": null,
      "metadata": {
        "colab": {
          "base_uri": "https://localhost:8080/"
        },
        "id": "U_1ceSW-eaiC",
        "outputId": "1b5378e2-666a-4713-f74c-6d06f909ba54"
      },
      "outputs": [
        {
          "output_type": "stream",
          "name": "stderr",
          "text": [
            "[nltk_data] Downloading package punkt_tab to /root/nltk_data...\n",
            "[nltk_data]   Unzipping tokenizers/punkt_tab.zip.\n",
            "[nltk_data] Downloading package stopwords to /root/nltk_data...\n",
            "[nltk_data]   Unzipping corpora/stopwords.zip.\n",
            "[nltk_data] Downloading package wordnet to /root/nltk_data...\n"
          ]
        },
        {
          "output_type": "execute_result",
          "data": {
            "text/plain": [
              "True"
            ]
          },
          "metadata": {},
          "execution_count": 4
        }
      ],
      "source": [
        "import pandas as pd\n",
        "import numpy as np\n",
        "from sklearn.feature_extraction.text import TfidfVectorizer\n",
        "from sklearn.metrics.pairwise import cosine_similarity\n",
        "from nltk.corpus import stopwords\n",
        "from nltk.tokenize import word_tokenize\n",
        "import nltk\n",
        "import re\n",
        "from nltk.stem import PorterStemmer, WordNetLemmatizer\n",
        "\n",
        "# Download stopwords dan punkt (untuk tokenisasi) dari nltk\n",
        "nltk.download('punkt_tab')\n",
        "nltk.download('stopwords')\n",
        "nltk.download('wordnet')\n"
      ]
    },
    {
      "cell_type": "markdown",
      "source": [
        "## **Memuat dataset [7K Books](https://www.kaggle.com/datasets/dylanjcastillo/7k-books-with-metadata) yang sebelumnya telah diunduh dari Kaggle.**"
      ],
      "metadata": {
        "id": "qLFJnva3hwZV"
      }
    },
    {
      "cell_type": "code",
      "execution_count": null,
      "metadata": {
        "colab": {
          "base_uri": "https://localhost:8080/"
        },
        "id": "zXnkDHB8eamK",
        "outputId": "a1e40ba8-5e25-4ea4-ef47-f959d881ab12"
      },
      "outputs": [
        {
          "output_type": "stream",
          "name": "stdout",
          "text": [
            "          isbn13      isbn10           title subtitle  \\\n",
            "0  9780002005883  0002005883          Gilead      NaN   \n",
            "1  9780002261982  0002261987    Spider's Web  A Novel   \n",
            "2  9780006163831  0006163831    The One Tree      NaN   \n",
            "3  9780006178736  0006178731  Rage of angels      NaN   \n",
            "4  9780006280897  0006280897  The Four Loves      NaN   \n",
            "\n",
            "                           authors                     categories  \\\n",
            "0               Marilynne Robinson                        Fiction   \n",
            "1  Charles Osborne;Agatha Christie  Detective and mystery stories   \n",
            "2             Stephen R. Donaldson               American fiction   \n",
            "3                   Sidney Sheldon                        Fiction   \n",
            "4              Clive Staples Lewis                 Christian life   \n",
            "\n",
            "                                           thumbnail  \\\n",
            "0  http://books.google.com/books/content?id=KQZCP...   \n",
            "1  http://books.google.com/books/content?id=gA5GP...   \n",
            "2  http://books.google.com/books/content?id=OmQaw...   \n",
            "3  http://books.google.com/books/content?id=FKo2T...   \n",
            "4  http://books.google.com/books/content?id=XhQ5X...   \n",
            "\n",
            "                                         description  published_year  \\\n",
            "0  A NOVEL THAT READERS and critics have been eag...          2004.0   \n",
            "1  A new 'Christie for Christmas' -- a full-lengt...          2000.0   \n",
            "2  Volume Two of Stephen Donaldson's acclaimed se...          1982.0   \n",
            "3  A memorable, mesmerizing heroine Jennifer -- b...          1993.0   \n",
            "4  Lewis' work on the nature of love divides love...          2002.0   \n",
            "\n",
            "   average_rating  num_pages  ratings_count  \n",
            "0            3.85      247.0          361.0  \n",
            "1            3.83      241.0         5164.0  \n",
            "2            3.97      479.0          172.0  \n",
            "3            3.93      512.0        29532.0  \n",
            "4            4.15      170.0        33684.0  \n"
          ]
        }
      ],
      "source": [
        "# Load dataset 7k Books\n",
        "df = pd.read_csv('/content/drive/MyDrive/KELAS/SEMESTER 7/Pengantar Recommender System/UTS/archive (1)/books.csv')\n",
        "\n",
        "# Tampilkan beberapa baris pertama untuk memastikan data\n",
        "print(df.head())\n"
      ]
    },
    {
      "cell_type": "markdown",
      "source": [
        "## **Preprocessing Teks**"
      ],
      "metadata": {
        "id": "K9rUgD0LiWXF"
      }
    },
    {
      "cell_type": "code",
      "execution_count": null,
      "metadata": {
        "id": "ZtE-nR6xeap5"
      },
      "outputs": [],
      "source": [
        "# Inisialisasi objek untuk stemming dan lemmatization\n",
        "stemmer = PorterStemmer()\n",
        "lemmatizer = WordNetLemmatizer()\n",
        "stop_words = set(stopwords.words('english'))\n",
        "\n",
        "# Data cleaning - menghapus nilai NaN pada kolom 'title', 'description', dan 'categories'\n",
        "df = df.dropna(subset=['title', 'description', 'categories'])\n",
        "\n",
        "# Menghapus data duplikat berdasarkan kolom 'title', 'description', dan 'categories'\n",
        "df = df.drop_duplicates(subset=['title'])"
      ]
    },
    {
      "cell_type": "code",
      "source": [
        "import pandas as pd\n",
        "\n",
        "# Menghitung jumlah buku per kategori\n",
        "category_counts = df['categories'].value_counts()\n",
        "\n",
        "# Menyaring kategori dengan lebih dari 100 buku\n",
        "valid_categories = category_counts[category_counts > 100].index\n",
        "\n",
        "# Filter dataset hanya untuk kategori valid\n",
        "df = df[df['categories'].isin(valid_categories)]\n",
        "\n",
        "# Kurangi jumlah buku dalam kategori yang lebih dari 500\n",
        "def limit_books_in_large_categories(df, max_books=500):\n",
        "    limited_dfs = []\n",
        "    for category, group in df.groupby('categories'):\n",
        "        if len(group) > max_books:\n",
        "            # Ambil sampel secara acak hingga jumlah maksimal\n",
        "            limited_dfs.append(group.sample(n=max_books, random_state=42))\n",
        "        else:\n",
        "            limited_dfs.append(group)\n",
        "    return pd.concat(limited_dfs, ignore_index=True)\n",
        "\n",
        "df = limit_books_in_large_categories(df, max_books=500)\n",
        "\n",
        "# Hitung ulang kategori yang tersisa beserta jumlah bukunya\n",
        "print(\"Kategori yang digunakan setelah pembersihan:\")\n",
        "print(df['categories'].value_counts())\n"
      ],
      "metadata": {
        "colab": {
          "base_uri": "https://localhost:8080/"
        },
        "id": "5jNQUOd_i6G_",
        "outputId": "b66120cf-a49d-48b1-c5f3-05587fd1565f"
      },
      "execution_count": null,
      "outputs": [
        {
          "output_type": "stream",
          "name": "stdout",
          "text": [
            "Kategori yang digunakan setelah pembersihan:\n",
            "categories\n",
            "Fiction                      500\n",
            "Juvenile Fiction             500\n",
            "Biography & Autobiography    377\n",
            "History                      252\n",
            "Literary Criticism           155\n",
            "Philosophy                   146\n",
            "Comics & Graphic Novels      140\n",
            "Religion                     132\n",
            "Drama                        112\n",
            "Juvenile Nonfiction          108\n",
            "Name: count, dtype: int64\n"
          ]
        }
      ]
    },
    {
      "cell_type": "code",
      "source": [
        "# Fungsi preprocessing teks\n",
        "def preprocess_text(text):\n",
        "    # Case folding - ubah teks menjadi lowercase\n",
        "    text = str(text).lower()\n",
        "\n",
        "    # Removal of URLs dan hashtags\n",
        "    text = re.sub(r'http\\S+|www\\S+|https\\S+|@\\S+|#\\S+', '', text)\n",
        "\n",
        "    # Tokenization\n",
        "    words = word_tokenize(text)\n",
        "\n",
        "    # Removal punctuation & hanya simpan alfanumerik\n",
        "    words = [word for word in words if word.isalnum()]\n",
        "\n",
        "    # Stopword removal\n",
        "    words = [word for word in words if word not in stop_words]\n",
        "\n",
        "    # Stemming dan Lemmatization\n",
        "    words = [stemmer.stem(word) for word in words]          # Stemming\n",
        "    words = [lemmatizer.lemmatize(word) for word in words]  # Lemmatization\n",
        "\n",
        "    # Text normalization - kata-kata khusus yang sering muncul disesuaikan agar lebih formal\n",
        "    normalization_dict = {\n",
        "        \"n't\": \"not\", \"’re\": \"are\", \"’s\": \"is\", \"’d\": \"would\", \"’ll\": \"will\", \"’t\": \"not\", \"’ve\": \"have\", \"’m\": \"am\"\n",
        "    }\n",
        "    words = [normalization_dict[word] if word in normalization_dict else word for word in words]\n",
        "\n",
        "    return ' '.join(words)\n",
        "\n",
        "# Terapkan preprocessing pada kolom 'title', 'description', dan 'categories'\n",
        "df['processed_title'] = df['title'].apply(preprocess_text)\n",
        "df['processed_description'] = df['description'].apply(preprocess_text)\n",
        "df['processed_categories'] = df['categories'].apply(preprocess_text)\n",
        "\n",
        "# Gabungkan kolom 'processed_title', 'processed_description', dan 'categories' untuk analisis konten\n",
        "df['content'] = df['processed_title'] + ' ' + df['processed_description'] + ' ' + df['processed_categories']\n",
        "\n",
        "# Tampilkan hasil\n",
        "df[['title', 'processed_title', 'description', 'processed_description', 'categories', 'processed_categories', 'content']].head()"
      ],
      "metadata": {
        "colab": {
          "base_uri": "https://localhost:8080/",
          "height": 362
        },
        "id": "_Fzfd_cqi7qh",
        "outputId": "fa936394-8387-4b47-ae84-1143ac7198f0"
      },
      "execution_count": null,
      "outputs": [
        {
          "output_type": "execute_result",
          "data": {
            "text/plain": [
              "                                       title               processed_title  \\\n",
              "0              The Real Trial of Oscar Wilde         real trial oscar wild   \n",
              "1  A Year in the Life of William Shakespeare  year life william shakespear   \n",
              "2                                    Travels                        travel   \n",
              "3                               Walt Whitman                  walt whitman   \n",
              "4          How to Make Love Like a Porn Star      make love like porn star   \n",
              "\n",
              "                                         description  \\\n",
              "0  Oscar Wilde had one of literary history's most...   \n",
              "1  1599 was an epochal year for Shakespeare and E...   \n",
              "2  Often I feel I go to some distant region of th...   \n",
              "3  Whitman's genius, passions, poetry, and androg...   \n",
              "4  When the stewardess brought me off the plane i...   \n",
              "\n",
              "                               processed_description  \\\n",
              "0  oscar wild one literari histori explos love af...   \n",
              "1  1599 epoch year shakespear england shakespear ...   \n",
              "2  often feel go distant region world remind real...   \n",
              "3  whitman geniu passion poetri androgyn sensibl ...   \n",
              "4  stewardess brought plane wheelchair lower head...   \n",
              "\n",
              "                  categories     processed_categories  \\\n",
              "0  Biography & Autobiography  biographi autobiographi   \n",
              "1  Biography & Autobiography  biographi autobiographi   \n",
              "2  Biography & Autobiography  biographi autobiographi   \n",
              "3  Biography & Autobiography  biographi autobiographi   \n",
              "4  Biography & Autobiography  biographi autobiographi   \n",
              "\n",
              "                                             content  \n",
              "0  real trial oscar wild oscar wild one literari ...  \n",
              "1  year life william shakespear 1599 epoch year s...  \n",
              "2  travel often feel go distant region world remi...  \n",
              "3  walt whitman whitman geniu passion poetri andr...  \n",
              "4  make love like porn star stewardess brought pl...  "
            ],
            "text/html": [
              "\n",
              "  <div id=\"df-23f04a91-fc32-43dc-be71-2273e26cf7fd\" class=\"colab-df-container\">\n",
              "    <div>\n",
              "<style scoped>\n",
              "    .dataframe tbody tr th:only-of-type {\n",
              "        vertical-align: middle;\n",
              "    }\n",
              "\n",
              "    .dataframe tbody tr th {\n",
              "        vertical-align: top;\n",
              "    }\n",
              "\n",
              "    .dataframe thead th {\n",
              "        text-align: right;\n",
              "    }\n",
              "</style>\n",
              "<table border=\"1\" class=\"dataframe\">\n",
              "  <thead>\n",
              "    <tr style=\"text-align: right;\">\n",
              "      <th></th>\n",
              "      <th>title</th>\n",
              "      <th>processed_title</th>\n",
              "      <th>description</th>\n",
              "      <th>processed_description</th>\n",
              "      <th>categories</th>\n",
              "      <th>processed_categories</th>\n",
              "      <th>content</th>\n",
              "    </tr>\n",
              "  </thead>\n",
              "  <tbody>\n",
              "    <tr>\n",
              "      <th>0</th>\n",
              "      <td>The Real Trial of Oscar Wilde</td>\n",
              "      <td>real trial oscar wild</td>\n",
              "      <td>Oscar Wilde had one of literary history's most...</td>\n",
              "      <td>oscar wild one literari histori explos love af...</td>\n",
              "      <td>Biography &amp; Autobiography</td>\n",
              "      <td>biographi autobiographi</td>\n",
              "      <td>real trial oscar wild oscar wild one literari ...</td>\n",
              "    </tr>\n",
              "    <tr>\n",
              "      <th>1</th>\n",
              "      <td>A Year in the Life of William Shakespeare</td>\n",
              "      <td>year life william shakespear</td>\n",
              "      <td>1599 was an epochal year for Shakespeare and E...</td>\n",
              "      <td>1599 epoch year shakespear england shakespear ...</td>\n",
              "      <td>Biography &amp; Autobiography</td>\n",
              "      <td>biographi autobiographi</td>\n",
              "      <td>year life william shakespear 1599 epoch year s...</td>\n",
              "    </tr>\n",
              "    <tr>\n",
              "      <th>2</th>\n",
              "      <td>Travels</td>\n",
              "      <td>travel</td>\n",
              "      <td>Often I feel I go to some distant region of th...</td>\n",
              "      <td>often feel go distant region world remind real...</td>\n",
              "      <td>Biography &amp; Autobiography</td>\n",
              "      <td>biographi autobiographi</td>\n",
              "      <td>travel often feel go distant region world remi...</td>\n",
              "    </tr>\n",
              "    <tr>\n",
              "      <th>3</th>\n",
              "      <td>Walt Whitman</td>\n",
              "      <td>walt whitman</td>\n",
              "      <td>Whitman's genius, passions, poetry, and androg...</td>\n",
              "      <td>whitman geniu passion poetri androgyn sensibl ...</td>\n",
              "      <td>Biography &amp; Autobiography</td>\n",
              "      <td>biographi autobiographi</td>\n",
              "      <td>walt whitman whitman geniu passion poetri andr...</td>\n",
              "    </tr>\n",
              "    <tr>\n",
              "      <th>4</th>\n",
              "      <td>How to Make Love Like a Porn Star</td>\n",
              "      <td>make love like porn star</td>\n",
              "      <td>When the stewardess brought me off the plane i...</td>\n",
              "      <td>stewardess brought plane wheelchair lower head...</td>\n",
              "      <td>Biography &amp; Autobiography</td>\n",
              "      <td>biographi autobiographi</td>\n",
              "      <td>make love like porn star stewardess brought pl...</td>\n",
              "    </tr>\n",
              "  </tbody>\n",
              "</table>\n",
              "</div>\n",
              "    <div class=\"colab-df-buttons\">\n",
              "\n",
              "  <div class=\"colab-df-container\">\n",
              "    <button class=\"colab-df-convert\" onclick=\"convertToInteractive('df-23f04a91-fc32-43dc-be71-2273e26cf7fd')\"\n",
              "            title=\"Convert this dataframe to an interactive table.\"\n",
              "            style=\"display:none;\">\n",
              "\n",
              "  <svg xmlns=\"http://www.w3.org/2000/svg\" height=\"24px\" viewBox=\"0 -960 960 960\">\n",
              "    <path d=\"M120-120v-720h720v720H120Zm60-500h600v-160H180v160Zm220 220h160v-160H400v160Zm0 220h160v-160H400v160ZM180-400h160v-160H180v160Zm440 0h160v-160H620v160ZM180-180h160v-160H180v160Zm440 0h160v-160H620v160Z\"/>\n",
              "  </svg>\n",
              "    </button>\n",
              "\n",
              "  <style>\n",
              "    .colab-df-container {\n",
              "      display:flex;\n",
              "      gap: 12px;\n",
              "    }\n",
              "\n",
              "    .colab-df-convert {\n",
              "      background-color: #E8F0FE;\n",
              "      border: none;\n",
              "      border-radius: 50%;\n",
              "      cursor: pointer;\n",
              "      display: none;\n",
              "      fill: #1967D2;\n",
              "      height: 32px;\n",
              "      padding: 0 0 0 0;\n",
              "      width: 32px;\n",
              "    }\n",
              "\n",
              "    .colab-df-convert:hover {\n",
              "      background-color: #E2EBFA;\n",
              "      box-shadow: 0px 1px 2px rgba(60, 64, 67, 0.3), 0px 1px 3px 1px rgba(60, 64, 67, 0.15);\n",
              "      fill: #174EA6;\n",
              "    }\n",
              "\n",
              "    .colab-df-buttons div {\n",
              "      margin-bottom: 4px;\n",
              "    }\n",
              "\n",
              "    [theme=dark] .colab-df-convert {\n",
              "      background-color: #3B4455;\n",
              "      fill: #D2E3FC;\n",
              "    }\n",
              "\n",
              "    [theme=dark] .colab-df-convert:hover {\n",
              "      background-color: #434B5C;\n",
              "      box-shadow: 0px 1px 3px 1px rgba(0, 0, 0, 0.15);\n",
              "      filter: drop-shadow(0px 1px 2px rgba(0, 0, 0, 0.3));\n",
              "      fill: #FFFFFF;\n",
              "    }\n",
              "  </style>\n",
              "\n",
              "    <script>\n",
              "      const buttonEl =\n",
              "        document.querySelector('#df-23f04a91-fc32-43dc-be71-2273e26cf7fd button.colab-df-convert');\n",
              "      buttonEl.style.display =\n",
              "        google.colab.kernel.accessAllowed ? 'block' : 'none';\n",
              "\n",
              "      async function convertToInteractive(key) {\n",
              "        const element = document.querySelector('#df-23f04a91-fc32-43dc-be71-2273e26cf7fd');\n",
              "        const dataTable =\n",
              "          await google.colab.kernel.invokeFunction('convertToInteractive',\n",
              "                                                    [key], {});\n",
              "        if (!dataTable) return;\n",
              "\n",
              "        const docLinkHtml = 'Like what you see? Visit the ' +\n",
              "          '<a target=\"_blank\" href=https://colab.research.google.com/notebooks/data_table.ipynb>data table notebook</a>'\n",
              "          + ' to learn more about interactive tables.';\n",
              "        element.innerHTML = '';\n",
              "        dataTable['output_type'] = 'display_data';\n",
              "        await google.colab.output.renderOutput(dataTable, element);\n",
              "        const docLink = document.createElement('div');\n",
              "        docLink.innerHTML = docLinkHtml;\n",
              "        element.appendChild(docLink);\n",
              "      }\n",
              "    </script>\n",
              "  </div>\n",
              "\n",
              "\n",
              "<div id=\"df-b3a075e0-79af-4bce-8e43-e3c6e963c322\">\n",
              "  <button class=\"colab-df-quickchart\" onclick=\"quickchart('df-b3a075e0-79af-4bce-8e43-e3c6e963c322')\"\n",
              "            title=\"Suggest charts\"\n",
              "            style=\"display:none;\">\n",
              "\n",
              "<svg xmlns=\"http://www.w3.org/2000/svg\" height=\"24px\"viewBox=\"0 0 24 24\"\n",
              "     width=\"24px\">\n",
              "    <g>\n",
              "        <path d=\"M19 3H5c-1.1 0-2 .9-2 2v14c0 1.1.9 2 2 2h14c1.1 0 2-.9 2-2V5c0-1.1-.9-2-2-2zM9 17H7v-7h2v7zm4 0h-2V7h2v10zm4 0h-2v-4h2v4z\"/>\n",
              "    </g>\n",
              "</svg>\n",
              "  </button>\n",
              "\n",
              "<style>\n",
              "  .colab-df-quickchart {\n",
              "      --bg-color: #E8F0FE;\n",
              "      --fill-color: #1967D2;\n",
              "      --hover-bg-color: #E2EBFA;\n",
              "      --hover-fill-color: #174EA6;\n",
              "      --disabled-fill-color: #AAA;\n",
              "      --disabled-bg-color: #DDD;\n",
              "  }\n",
              "\n",
              "  [theme=dark] .colab-df-quickchart {\n",
              "      --bg-color: #3B4455;\n",
              "      --fill-color: #D2E3FC;\n",
              "      --hover-bg-color: #434B5C;\n",
              "      --hover-fill-color: #FFFFFF;\n",
              "      --disabled-bg-color: #3B4455;\n",
              "      --disabled-fill-color: #666;\n",
              "  }\n",
              "\n",
              "  .colab-df-quickchart {\n",
              "    background-color: var(--bg-color);\n",
              "    border: none;\n",
              "    border-radius: 50%;\n",
              "    cursor: pointer;\n",
              "    display: none;\n",
              "    fill: var(--fill-color);\n",
              "    height: 32px;\n",
              "    padding: 0;\n",
              "    width: 32px;\n",
              "  }\n",
              "\n",
              "  .colab-df-quickchart:hover {\n",
              "    background-color: var(--hover-bg-color);\n",
              "    box-shadow: 0 1px 2px rgba(60, 64, 67, 0.3), 0 1px 3px 1px rgba(60, 64, 67, 0.15);\n",
              "    fill: var(--button-hover-fill-color);\n",
              "  }\n",
              "\n",
              "  .colab-df-quickchart-complete:disabled,\n",
              "  .colab-df-quickchart-complete:disabled:hover {\n",
              "    background-color: var(--disabled-bg-color);\n",
              "    fill: var(--disabled-fill-color);\n",
              "    box-shadow: none;\n",
              "  }\n",
              "\n",
              "  .colab-df-spinner {\n",
              "    border: 2px solid var(--fill-color);\n",
              "    border-color: transparent;\n",
              "    border-bottom-color: var(--fill-color);\n",
              "    animation:\n",
              "      spin 1s steps(1) infinite;\n",
              "  }\n",
              "\n",
              "  @keyframes spin {\n",
              "    0% {\n",
              "      border-color: transparent;\n",
              "      border-bottom-color: var(--fill-color);\n",
              "      border-left-color: var(--fill-color);\n",
              "    }\n",
              "    20% {\n",
              "      border-color: transparent;\n",
              "      border-left-color: var(--fill-color);\n",
              "      border-top-color: var(--fill-color);\n",
              "    }\n",
              "    30% {\n",
              "      border-color: transparent;\n",
              "      border-left-color: var(--fill-color);\n",
              "      border-top-color: var(--fill-color);\n",
              "      border-right-color: var(--fill-color);\n",
              "    }\n",
              "    40% {\n",
              "      border-color: transparent;\n",
              "      border-right-color: var(--fill-color);\n",
              "      border-top-color: var(--fill-color);\n",
              "    }\n",
              "    60% {\n",
              "      border-color: transparent;\n",
              "      border-right-color: var(--fill-color);\n",
              "    }\n",
              "    80% {\n",
              "      border-color: transparent;\n",
              "      border-right-color: var(--fill-color);\n",
              "      border-bottom-color: var(--fill-color);\n",
              "    }\n",
              "    90% {\n",
              "      border-color: transparent;\n",
              "      border-bottom-color: var(--fill-color);\n",
              "    }\n",
              "  }\n",
              "</style>\n",
              "\n",
              "  <script>\n",
              "    async function quickchart(key) {\n",
              "      const quickchartButtonEl =\n",
              "        document.querySelector('#' + key + ' button');\n",
              "      quickchartButtonEl.disabled = true;  // To prevent multiple clicks.\n",
              "      quickchartButtonEl.classList.add('colab-df-spinner');\n",
              "      try {\n",
              "        const charts = await google.colab.kernel.invokeFunction(\n",
              "            'suggestCharts', [key], {});\n",
              "      } catch (error) {\n",
              "        console.error('Error during call to suggestCharts:', error);\n",
              "      }\n",
              "      quickchartButtonEl.classList.remove('colab-df-spinner');\n",
              "      quickchartButtonEl.classList.add('colab-df-quickchart-complete');\n",
              "    }\n",
              "    (() => {\n",
              "      let quickchartButtonEl =\n",
              "        document.querySelector('#df-b3a075e0-79af-4bce-8e43-e3c6e963c322 button');\n",
              "      quickchartButtonEl.style.display =\n",
              "        google.colab.kernel.accessAllowed ? 'block' : 'none';\n",
              "    })();\n",
              "  </script>\n",
              "</div>\n",
              "\n",
              "    </div>\n",
              "  </div>\n"
            ],
            "application/vnd.google.colaboratory.intrinsic+json": {
              "type": "dataframe",
              "summary": "{\n  \"name\": \"df[['title', 'processed_title', 'description', 'processed_description', 'categories', 'processed_categories', 'content']]\",\n  \"rows\": 5,\n  \"fields\": [\n    {\n      \"column\": \"title\",\n      \"properties\": {\n        \"dtype\": \"string\",\n        \"num_unique_values\": 5,\n        \"samples\": [\n          \"A Year in the Life of William Shakespeare\",\n          \"How to Make Love Like a Porn Star\",\n          \"Travels\"\n        ],\n        \"semantic_type\": \"\",\n        \"description\": \"\"\n      }\n    },\n    {\n      \"column\": \"processed_title\",\n      \"properties\": {\n        \"dtype\": \"string\",\n        \"num_unique_values\": 5,\n        \"samples\": [\n          \"year life william shakespear\",\n          \"make love like porn star\",\n          \"travel\"\n        ],\n        \"semantic_type\": \"\",\n        \"description\": \"\"\n      }\n    },\n    {\n      \"column\": \"description\",\n      \"properties\": {\n        \"dtype\": \"string\",\n        \"num_unique_values\": 5,\n        \"samples\": [\n          \"1599 was an epochal year for Shakespeare and England Shakespeare wrote four of his most famous plays: Henry the Fifth, Julius Caesar, As You Like It, and, most remarkably, Hamlet; Elizabethans sent off an army to crush an Irish rebellion, weathered an Armada threat from Spain, gambled on a fledgling East India Company, and waited to see who would succeed their aging and childless queen. James Shapiro illuminates both Shakespeare\\u2019s staggering achievement and what Elizabethans experienced in the course of 1599, bringing together the news and the intrigue of the times with a wonderful evocation of how Shakespeare worked as an actor, businessman, and playwright. The result is an exceptionally immediate and gripping account of an inspiring moment in history.\",\n          \"When the stewardess brought me off the plane in a wheelchair, I lowered my head. I was too scared to even look at my father. I didn't want to see the disappointment and horror on his face. All that hate I had accumulated for him over the years, all the resentment against him for not understanding what I was going through, just released with the tears. \\\"So, where are your parents?\\\" the stewardess asked me after a few minutes. \\\"I can't wait here with you much longer.\\\" I looked up and wiped my eyes. My father was standing ten feet away. He didn't even recognize me. In the underbelly of Las Vegas, a cesspool of warring biker gangs and seedy strip clubs transformed the gawky, brace-faced Jenna Massoli into the bombshell Jenna Jameson. Today, Jenna Jameson is the biggest star in the history of adult movies, consistently ranked as one of the most beautiful women alive. But behind the glamour and the meteoric rise to fame was a path paved with tragedy and heartbreak. As a teenager drawn into a chaotic world ruled by rape, abuse, and murder, Jenna plunged into a downward spiral of addiction, even as she became one of the most photographed women in adult magazines. Determined to overcome this past, Jenna rebounded in the adult-film business, where she encountered sadistic directors, experienced lovers of both sexes, amorous celebrities (from Howard Stern to Marilyn Manson to Tommy Lee), bitter rival starlets, and finally, glory, as she went on to become the biggest porn star the world has ever seen. But her struggle for happiness did not end when the accolades began. For years she wrestled with her resentment at her estranged father, the loneliness of growing up from the age of two without a mother, and her enduring childhood desire to find a man who could give her the security and love she never had. Her unforgettable memoir is many things at once: a shocking sexual history, an insider's guide to the secret workings of the billion-dollar adult-film industry, and a gripping thriller that probes deep into Jenna's dark past. An unparalleled exploration of sexual freedom, How to Make Love Like a Porn Star ventures far beyond the flesh, into the heart-shredding tragedies and adrenaline-pumping triumphs of a woman who has already lived a hundred lifetimes. Always witty and humorous even as she faces the demons of her past, Jenna offers hilarious anecdotes about one of the most controversial businesses in history, and shares outrageous advice, including her ten commandments of dating and sex, how to become a \\\"suitcase pimp,\\\" and how to make it in the business as a female (or a male). Add to this never-before-seen photographs from Jenna's private collection and others taken exclusively for this book, and the result is certain to be one of the most talked-about books of the year.\",\n          \"Often I feel I go to some distant region of the world to be reminded of who I really am. When Michael Crichton -- a Harvard-trained physician, bestselling novelist, and successful movie director -- began to feel isolated in his own life, he decided to widen his horizons. He tracked wild animals in the jungles of Rwanda. He climbed Kilimanjaro and Mayan pyramids. He trekked across a landslide in Pakistan. He swam amid sharks in Tahiti. Fueled by a powerful curiosity and the need to see, feel, and hear firsthand and close-up, Michael Crichton has experienced adventures as compelling as those he created in his books and films. These adventures -- both physical and spiritual -- are recorded here in Travels, Crichton's most astonishing and personal work.\"\n        ],\n        \"semantic_type\": \"\",\n        \"description\": \"\"\n      }\n    },\n    {\n      \"column\": \"processed_description\",\n      \"properties\": {\n        \"dtype\": \"string\",\n        \"num_unique_values\": 5,\n        \"samples\": [\n          \"1599 epoch year shakespear england shakespear wrote four famou play henri fifth juliu caesar like remark hamlet elizabethan sent armi crush irish rebellion weather armada threat spain gambl fledgl east india compani wait see would succeed age childless queen jame shapiro illumin shakespear stagger achiev elizabethan experienc cours 1599 bring togeth news intrigu time wonder evoc shakespear work actor businessman playwright result except immedi grip account inspir moment histori\",\n          \"stewardess brought plane wheelchair lower head scare even look father want see disappoint horror face hate accumul year resent understand go releas tear parent stewardess ask minut ca wait much longer look wipe eye father stand ten foot away even recogn underbelli la vega cesspool war biker gang seedi strip club transform gawki jenna massoli bombshel jenna jameson today jenna jameson biggest star histori adult movi consist rank one beauti woman aliv behind glamour meteor rise fame path pave tragedi heartbreak teenag drawn chaotic world rule rape abus murder jenna plung downward spiral addict even becam one photograph woman adult magazin determin overcom past jenna rebound busi encount sadist director experienc lover sex amor celebr howard stern marilyn manson tommi lee bitter rival starlet final glori went becom biggest porn star world ever seen struggl happi end accolad began year wrestl resent estrang father loneli grow age two without mother endur childhood desir find man could give secur love never unforgett memoir mani thing shock sexual histori insid guid secret work industri grip thriller probe deep jenna dark past unparallel explor sexual freedom make love like porn star ventur far beyond flesh tragedi triumph woman alreadi live hundr lifetim alway witti humor even face demon past jenna offer hilari anecdot one controversi busi histori share outrag advic includ ten command date sex becom suitcas pimp make busi femal male add photograph jenna privat collect other taken exclus book result certain one book year\",\n          \"often feel go distant region world remind realli michael crichton physician bestsel novelist success movi director began feel isol life decid widen horizon track wild anim jungl rwanda climb kilimanjaro mayan pyramid trek across landslid pakistan swam amid shark tahiti fuel power curio need see feel hear firsthand michael crichton experienc adventur compel creat book film adventur physic spiritu record travel crichton astonish person work\"\n        ],\n        \"semantic_type\": \"\",\n        \"description\": \"\"\n      }\n    },\n    {\n      \"column\": \"categories\",\n      \"properties\": {\n        \"dtype\": \"category\",\n        \"num_unique_values\": 1,\n        \"samples\": [\n          \"Biography & Autobiography\"\n        ],\n        \"semantic_type\": \"\",\n        \"description\": \"\"\n      }\n    },\n    {\n      \"column\": \"processed_categories\",\n      \"properties\": {\n        \"dtype\": \"category\",\n        \"num_unique_values\": 1,\n        \"samples\": [\n          \"biographi autobiographi\"\n        ],\n        \"semantic_type\": \"\",\n        \"description\": \"\"\n      }\n    },\n    {\n      \"column\": \"content\",\n      \"properties\": {\n        \"dtype\": \"string\",\n        \"num_unique_values\": 5,\n        \"samples\": [\n          \"year life william shakespear 1599 epoch year shakespear england shakespear wrote four famou play henri fifth juliu caesar like remark hamlet elizabethan sent armi crush irish rebellion weather armada threat spain gambl fledgl east india compani wait see would succeed age childless queen jame shapiro illumin shakespear stagger achiev elizabethan experienc cours 1599 bring togeth news intrigu time wonder evoc shakespear work actor businessman playwright result except immedi grip account inspir moment histori biographi autobiographi\"\n        ],\n        \"semantic_type\": \"\",\n        \"description\": \"\"\n      }\n    }\n  ]\n}"
            }
          },
          "metadata": {},
          "execution_count": 11
        }
      ]
    },
    {
      "cell_type": "code",
      "source": [
        "df.info()"
      ],
      "metadata": {
        "colab": {
          "base_uri": "https://localhost:8080/"
        },
        "id": "Yfybn5Ga2WqT",
        "outputId": "38281977-5483-4342-8ce9-2dcd4b2adf32"
      },
      "execution_count": null,
      "outputs": [
        {
          "output_type": "stream",
          "name": "stdout",
          "text": [
            "<class 'pandas.core.frame.DataFrame'>\n",
            "RangeIndex: 2422 entries, 0 to 2421\n",
            "Data columns (total 16 columns):\n",
            " #   Column                 Non-Null Count  Dtype  \n",
            "---  ------                 --------------  -----  \n",
            " 0   isbn13                 2422 non-null   int64  \n",
            " 1   isbn10                 2422 non-null   object \n",
            " 2   title                  2422 non-null   object \n",
            " 3   subtitle               900 non-null    object \n",
            " 4   authors                2385 non-null   object \n",
            " 5   categories             2422 non-null   object \n",
            " 6   thumbnail              2374 non-null   object \n",
            " 7   description            2422 non-null   object \n",
            " 8   published_year         2422 non-null   float64\n",
            " 9   average_rating         2416 non-null   float64\n",
            " 10  num_pages              2416 non-null   float64\n",
            " 11  ratings_count          2416 non-null   float64\n",
            " 12  processed_title        2422 non-null   object \n",
            " 13  processed_description  2422 non-null   object \n",
            " 14  processed_categories   2422 non-null   object \n",
            " 15  content                2422 non-null   object \n",
            "dtypes: float64(4), int64(1), object(11)\n",
            "memory usage: 302.9+ KB\n"
          ]
        }
      ]
    },
    {
      "cell_type": "markdown",
      "source": [
        "## **TF-IDF dan Cosine Similarity**"
      ],
      "metadata": {
        "id": "Hzd0DV-CioGc"
      }
    },
    {
      "cell_type": "code",
      "execution_count": null,
      "metadata": {
        "id": "75-W8Itveass",
        "colab": {
          "base_uri": "https://localhost:8080/"
        },
        "outputId": "ab29466c-43f5-4a72-95ea-b3f98a608a5f"
      },
      "outputs": [
        {
          "output_type": "stream",
          "name": "stdout",
          "text": [
            "0.025113356206671936\n"
          ]
        }
      ],
      "source": [
        "# Inisialisasi TF-IDF Vectorizer\n",
        "tfidf_vectorizer = TfidfVectorizer(stop_words='english')\n",
        "\n",
        "# Transformasi teks pada kolom 'content' menjadi vektor TF-IDF\n",
        "tfidf_matrix = tfidf_vectorizer.fit_transform(df['content'])\n",
        "\n",
        "# Hitung cosine similarity antar buku\n",
        "cosine_sim = cosine_similarity(tfidf_matrix, tfidf_matrix)\n",
        "\n",
        "# Tampilkan hasil cosine similarity antar dua buku pertama\n",
        "print(cosine_sim[0, 1])\n"
      ]
    },
    {
      "cell_type": "markdown",
      "source": [
        "**Menampilkan Buku dengan Cosine Similarity Tertinggi**"
      ],
      "metadata": {
        "id": "tUvW7kiKHKbP"
      }
    },
    {
      "cell_type": "code",
      "source": [
        "import numpy as np\n",
        "from sklearn.metrics.pairwise import cosine_similarity\n",
        "from sklearn.feature_extraction.text import TfidfVectorizer\n",
        "\n",
        "# Menemukan indeks dari similarity maksimal (mengabaikan diagonal)\n",
        "# Diagonal adalah similarity buku dengan dirinya sendiri, jadi kita set menjadi -inf untuk mengabaikannya\n",
        "np.fill_diagonal(cosine_sim, -np.inf)\n",
        "\n",
        "# Temukan indeks dari cosine similarity terbesar\n",
        "max_sim_idx = np.unravel_index(np.argmax(cosine_sim), cosine_sim.shape)\n",
        "\n",
        "# Ambil pasangan buku dengan similarity terbesar\n",
        "book1_idx, book2_idx = max_sim_idx\n",
        "\n",
        "# Tampilkan judul kedua buku yang memiliki similarity terbesar\n",
        "book1_title = df.iloc[book1_idx]['title']\n",
        "book2_title = df.iloc[book2_idx]['title']\n",
        "max_similarity = cosine_sim[book1_idx, book2_idx]\n",
        "\n",
        "print(f\"The two most similar books are '{book1_title}' and '{book2_title}' with a cosine similarity of {max_similarity:.4f}.\")\n"
      ],
      "metadata": {
        "colab": {
          "base_uri": "https://localhost:8080/"
        },
        "id": "qRcUHnLCwSUh",
        "outputId": "d3c58943-d380-408e-ad55-1e1224a79e11"
      },
      "execution_count": null,
      "outputs": [
        {
          "output_type": "stream",
          "name": "stdout",
          "text": [
            "The two most similar books are 'The Diary of Virginia Woolf' and 'The Diary of Virginia Woolf: 1931-1935' with a cosine similarity of 1.0000.\n"
          ]
        }
      ]
    },
    {
      "cell_type": "markdown",
      "source": [
        "## **Fungsi untuk Rekomendasi Berdasarkan Keyword Inputan User**"
      ],
      "metadata": {
        "id": "eczJX1XfivW1"
      }
    },
    {
      "cell_type": "markdown",
      "source": [
        "### **1. Menampilkan Rekomendasi Berdasarkan Top 10 Cosine Similarity**"
      ],
      "metadata": {
        "id": "SnXQDEbE-mOD"
      }
    },
    {
      "cell_type": "code",
      "execution_count": null,
      "metadata": {
        "id": "KzkIMYm3eqHo",
        "colab": {
          "base_uri": "https://localhost:8080/"
        },
        "outputId": "f42702a6-9199-4fd9-9d05-cb6666ff0a19"
      },
      "outputs": [
        {
          "output_type": "stream",
          "name": "stdout",
          "text": [
            "             isbn13                      title  \\\n",
            "1913  9780439736466  Where We Are, what We See   \n",
            "2144  9780024266408           The Presocratics   \n",
            "2282  9781590302255             The Art of War   \n",
            "2279  9781570623950                    Lao Tzu   \n",
            "2397  9781567996036                     Angels   \n",
            "1056  9780143036395          The Stone Diaries   \n",
            "2192  9780394704371          The Will to Power   \n",
            "59    9780156027915           A Writer's Diary   \n",
            "1535  9780786808397        Baby Einstein: Dogs   \n",
            "1556  9780786808373       Baby Einstein: Birds   \n",
            "\n",
            "                                            description  \\\n",
            "1913  A collection of poems, stories, essays, and ar...   \n",
            "2144                     Library of Liberal Arts title.   \n",
            "2282  Written around the 6th century BC, The Art of ...   \n",
            "2279  A new translation of the classic \"Book of the ...   \n",
            "2397  A pictorial examination of the use of angels i...   \n",
            "1056  Carol Shields' The Stone Diaries irrevocably t...   \n",
            "2192  Offers a selection from the author's notebooks...   \n",
            "59    Extracts drawn by Virginia Woolf's husband fro...   \n",
            "1535  Introduce your baby to birds, cats, dogs, and ...   \n",
            "1556  Introducing your baby to birds, cats, dogs, an...   \n",
            "\n",
            "                     categories  cosine_similarity  \n",
            "1913        Juvenile Nonfiction           0.374073  \n",
            "2144                 Philosophy           0.336053  \n",
            "2282                 Philosophy           0.317158  \n",
            "2279                 Philosophy           0.255880  \n",
            "2397                   Religion           0.237229  \n",
            "1056                    Fiction           0.231823  \n",
            "2192                 Philosophy           0.219943  \n",
            "59    Biography & Autobiography           0.211220  \n",
            "1535           Juvenile Fiction           0.208802  \n",
            "1556           Juvenile Fiction           0.206880  \n"
          ]
        }
      ],
      "source": [
        "# Fungsi rekomendasi berdasarkan keyword\n",
        "def get_recommendations_by_keyword(keyword, cosine_sim=cosine_sim):\n",
        "    # Preprocess kata kunci input\n",
        "    processed_keyword = preprocess_text(keyword)\n",
        "\n",
        "    # Transform kata kunci menjadi vektor TF-IDF\n",
        "    keyword_vector = tfidf_vectorizer.transform([processed_keyword])\n",
        "\n",
        "    # Hitung cosine similarity antara kata kunci dan semua buku\n",
        "    sim_scores = cosine_similarity(keyword_vector, tfidf_matrix).flatten()\n",
        "\n",
        "    # Urutkan buku berdasarkan skor similarity\n",
        "    sim_scores = list(enumerate(sim_scores))\n",
        "    sim_scores = sorted(sim_scores, key=lambda x: x[1], reverse=True)\n",
        "\n",
        "    # Ambil 10 buku teratas yang paling mirip\n",
        "    top_books_indices = [i[0] for i in sim_scores[:10]]\n",
        "\n",
        "    # Ambil detail buku yang direkomendasikan\n",
        "    recommended_books = df[['isbn13', 'title', 'description', 'categories']].iloc[top_books_indices]\n",
        "\n",
        "    # Tambahkan kolom untuk nilai cosine similarity\n",
        "    recommended_books['cosine_similarity'] = [i[1] for i in sim_scores[:10]]\n",
        "\n",
        "    # Kembalikan hasil buku yang direkomendasikan dengan nilai cosine similarity\n",
        "    return recommended_books\n",
        "\n",
        "# Contoh uji dengan kata kunci tertentu\n",
        "keyword = \"art\"\n",
        "recommended_books = get_recommendations_by_keyword(keyword)\n",
        "print(recommended_books)"
      ]
    },
    {
      "cell_type": "markdown",
      "source": [
        "### **Evaluasi Sistem dengan Precision dan Recall**"
      ],
      "metadata": {
        "id": "_fdiDb-Ki7-T"
      }
    },
    {
      "cell_type": "code",
      "source": [
        "def evaluate_recommendations(keyword, df, cosine_sim, tfidf_vectorizer, tfidf_matrix, k=10, threshold=0.3):\n",
        "    \"\"\"\n",
        "    Evaluasi hasil rekomendasi berdasarkan precision dan recall.\n",
        "\n",
        "    Parameters:\n",
        "        keyword (str): Kata kunci untuk pencarian rekomendasi.\n",
        "        df (DataFrame): DataFrame yang berisi informasi buku.\n",
        "        cosine_sim (array): Matriks cosine similarity.\n",
        "        tfidf_vectorizer (TfidfVectorizer): Model TF-IDF yang sudah dilatih.\n",
        "        tfidf_matrix (sparse matrix): Matriks TF-IDF dari konten buku.\n",
        "        k (int): Jumlah buku rekomendasi yang diambil.\n",
        "        threshold (float): Ambang batas untuk cosine similarity agar dianggap relevan.\n",
        "\n",
        "    Returns:\n",
        "        precision (float): Nilai precision dari rekomendasi.\n",
        "        recall (float): Nilai recall dari rekomendasi.\n",
        "    \"\"\"\n",
        "    # 1. Ambil hasil rekomendasi dari fungsi get_recommendations_by_keyword\n",
        "    recommended_books_df = get_recommendations_by_keyword(keyword, cosine_sim)\n",
        "    recommended_books_df = recommended_books_df.head(k)  # Ambil K rekomendasi teratas\n",
        "    recommended_books = recommended_books_df['isbn13'].tolist()\n",
        "\n",
        "    # 2. Identifikasi buku relevan berdasarkan keyword\n",
        "    # Preprocess keyword\n",
        "    processed_keyword = preprocess_text(keyword)\n",
        "    keyword_vector = tfidf_vectorizer.transform([processed_keyword])\n",
        "    sim_scores = cosine_similarity(keyword_vector, tfidf_matrix).flatten()\n",
        "\n",
        "    # Ambil buku yang relevan berdasarkan threshold similarity\n",
        "    relevant_books_indices = [i for i, score in enumerate(sim_scores) if score >= threshold]\n",
        "    relevant_books = df['isbn13'].iloc[relevant_books_indices].tolist()\n",
        "\n",
        "    # 3. Hitung precision dan recall\n",
        "    if not relevant_books:\n",
        "        print(\"Tidak ada buku relevan ditemukan dengan threshold similarity.\")\n",
        "        return 0.0, 0.0\n",
        "\n",
        "    true_positives = len(set(recommended_books) & set(relevant_books))\n",
        "    precision = true_positives / len(recommended_books) if recommended_books else 0\n",
        "    recall = true_positives / len(relevant_books) if relevant_books else 0\n",
        "\n",
        "    # 4. Tampilkan hasil evaluasi\n",
        "    print(f\"Buku relevan ({len(relevant_books)}): {relevant_books}\")\n",
        "    print(f\"Buku rekomendasi ({len(recommended_books)}): {recommended_books}\")\n",
        "    print(f\"True Positives: {true_positives}\")\n",
        "\n",
        "    return precision, recall\n",
        "\n",
        "\n",
        "# Contoh evaluasi dengan ambang similarity 0.7\n",
        "precision, recall = evaluate_recommendations(keyword, df, cosine_sim, tfidf_vectorizer, tfidf_matrix, k=10, threshold=0.3)\n",
        "print(f\"Precision: {precision}, Recall: {recall}\")\n"
      ],
      "metadata": {
        "colab": {
          "base_uri": "https://localhost:8080/"
        },
        "id": "QDAwjh79nTEI",
        "outputId": "88d9d282-2b20-40e2-ce1c-e79e793b1961"
      },
      "execution_count": null,
      "outputs": [
        {
          "output_type": "stream",
          "name": "stdout",
          "text": [
            "Buku relevan (3): [9780439736466, 9780024266408, 9781590302255]\n",
            "Buku rekomendasi (10): [9780439736466, 9780024266408, 9781590302255, 9781570623950, 9781567996036, 9780143036395, 9780394704371, 9780156027915, 9780786808397, 9780786808373]\n",
            "True Positives: 3\n",
            "Precision: 0.3, Recall: 1.0\n"
          ]
        }
      ]
    },
    {
      "cell_type": "markdown",
      "source": [
        "### **2. Menampilkan Rekomendasi Berdasarkan Threshold=0,3**"
      ],
      "metadata": {
        "id": "WRvZLBrN-9qn"
      }
    },
    {
      "cell_type": "code",
      "source": [
        "def get_recommendations_by_keyword(keyword, df, cosine_sim, tfidf_vectorizer, tfidf_matrix, threshold=0.3):\n",
        "    \"\"\"\n",
        "    Fungsi untuk mendapatkan rekomendasi buku berdasarkan kata kunci.\n",
        "\n",
        "    Parameters:\n",
        "        keyword (str): Kata kunci untuk pencarian.\n",
        "        df (DataFrame): DataFrame yang berisi informasi buku.\n",
        "        cosine_sim (array): Matriks cosine similarity.\n",
        "        tfidf_vectorizer (TfidfVectorizer): Model TF-IDF yang sudah dilatih.\n",
        "        tfidf_matrix (sparse matrix): Matriks TF-IDF dari konten buku.\n",
        "        threshold (float): Ambang batas untuk cosine similarity agar dianggap relevan.\n",
        "\n",
        "    Returns:\n",
        "        recommended_books (DataFrame): DataFrame berisi buku yang direkomendasikan dengan cosine similarity.\n",
        "    \"\"\"\n",
        "    # Preprocess kata kunci input\n",
        "    processed_keyword = preprocess_text(keyword)\n",
        "\n",
        "    # Transform kata kunci menjadi vektor TF-IDF\n",
        "    keyword_vector = tfidf_vectorizer.transform([processed_keyword])\n",
        "\n",
        "    # Hitung cosine similarity antara kata kunci dan semua buku\n",
        "    sim_scores = cosine_similarity(keyword_vector, tfidf_matrix).flatten()\n",
        "\n",
        "    # Filter buku yang similarity-nya melebihi threshold\n",
        "    recommended_indices = [i for i, score in enumerate(sim_scores) if score >= threshold]\n",
        "\n",
        "    # Urutkan berdasarkan cosine similarity secara descending\n",
        "    top_recommendations = sorted(recommended_indices, key=lambda x: sim_scores[x], reverse=True)\n",
        "\n",
        "    # Ambil detail buku yang memenuhi kriteria\n",
        "    recommended_books = df[['isbn13', 'title', 'description', 'categories']].iloc[top_recommendations].copy()\n",
        "    recommended_books['cosine_similarity'] = [sim_scores[i] for i in top_recommendations]\n",
        "\n",
        "    return recommended_books\n",
        "\n",
        "\n",
        "# Contoh uji dengan kata kunci tertentu\n",
        "keyword = \"art\"\n",
        "recommended_books = get_recommendations_by_keyword(keyword, df, cosine_sim, tfidf_vectorizer, tfidf_matrix, threshold=0.3)\n",
        "print(recommended_books)\n"
      ],
      "metadata": {
        "colab": {
          "base_uri": "https://localhost:8080/"
        },
        "id": "3e09ZddK_Fzx",
        "outputId": "4186962b-27be-4e0d-98d8-46e185656139"
      },
      "execution_count": null,
      "outputs": [
        {
          "output_type": "stream",
          "name": "stdout",
          "text": [
            "             isbn13                      title  \\\n",
            "1913  9780439736466  Where We Are, what We See   \n",
            "2144  9780024266408           The Presocratics   \n",
            "2282  9781590302255             The Art of War   \n",
            "\n",
            "                                            description           categories  \\\n",
            "1913  A collection of poems, stories, essays, and ar...  Juvenile Nonfiction   \n",
            "2144                     Library of Liberal Arts title.           Philosophy   \n",
            "2282  Written around the 6th century BC, The Art of ...           Philosophy   \n",
            "\n",
            "      cosine_similarity  \n",
            "1913           0.374073  \n",
            "2144           0.336053  \n",
            "2282           0.317158  \n"
          ]
        }
      ]
    },
    {
      "cell_type": "markdown",
      "source": [
        "### **Evaluasi Sistem dengan Precision dan Recall**"
      ],
      "metadata": {
        "id": "U0JhhP9j_GyB"
      }
    },
    {
      "cell_type": "code",
      "source": [
        "from sklearn.metrics import precision_score, recall_score\n",
        "\n",
        "def evaluate_recommendations(keyword, df, cosine_sim, tfidf_vectorizer, tfidf_matrix, threshold=0.7):\n",
        "    \"\"\"\n",
        "    Evaluasi rekomendasi berdasarkan Precision dan Recall.\n",
        "\n",
        "    Parameters:\n",
        "        keyword (str): Kata kunci untuk mencari rekomendasi.\n",
        "        df (DataFrame): DataFrame berisi informasi buku.\n",
        "        cosine_sim (array): Matriks cosine similarity.\n",
        "        tfidf_vectorizer (TfidfVectorizer): Model TF-IDF yang sudah dilatih.\n",
        "        tfidf_matrix (sparse matrix): Matriks TF-IDF dari konten buku.\n",
        "        threshold (float): Ambang batas cosine similarity untuk dianggap relevan.\n",
        "\n",
        "    Returns:\n",
        "        precision (float): Nilai Precision dari hasil rekomendasi.\n",
        "        recall (float): Nilai Recall dari hasil rekomendasi.\n",
        "    \"\"\"\n",
        "    # Ambil hasil rekomendasi berdasarkan keyword\n",
        "    recommended_books = get_recommendations_by_keyword(keyword, df, cosine_sim, tfidf_vectorizer, tfidf_matrix, threshold)\n",
        "    recommended_isbns = set(recommended_books['isbn13'])\n",
        "\n",
        "    # Proses kata kunci untuk mencari buku relevan di dataset\n",
        "    processed_keyword = preprocess_text(keyword)\n",
        "    keyword_vector = tfidf_vectorizer.transform([processed_keyword])\n",
        "    sim_scores = cosine_similarity(keyword_vector, tfidf_matrix).flatten()\n",
        "\n",
        "    # Ambil buku relevan berdasarkan cosine similarity >= threshold\n",
        "    relevant_indices = [i for i, score in enumerate(sim_scores) if score >= threshold]\n",
        "    relevant_isbns = set(df.iloc[relevant_indices]['isbn13'])\n",
        "\n",
        "    # Evaluasi Precision dan Recall\n",
        "    true_positives = recommended_isbns.intersection(relevant_isbns)\n",
        "    precision = len(true_positives) / len(recommended_isbns) if recommended_isbns else 1.0\n",
        "    recall = len(true_positives) / len(relevant_isbns) if relevant_isbns else 1.0\n",
        "\n",
        "    return precision, recall\n",
        "\n",
        "# Contoh uji evaluasi\n",
        "precision, recall = evaluate_recommendations(keyword, df, cosine_sim, tfidf_vectorizer, tfidf_matrix, threshold=0.3)\n",
        "print(f\"Precision: {precision:}, Recall: {recall:}\")\n"
      ],
      "metadata": {
        "colab": {
          "base_uri": "https://localhost:8080/"
        },
        "id": "hBBY1E_S_F3d",
        "outputId": "8260955e-1242-4c4d-c6b6-2d5a2ba3a991"
      },
      "execution_count": null,
      "outputs": [
        {
          "output_type": "stream",
          "name": "stdout",
          "text": [
            "Precision: 1.0, Recall: 1.0\n"
          ]
        }
      ]
    },
    {
      "cell_type": "markdown",
      "source": [
        "## **Menyimpan Model TF-IDF dan Matriks Cosine Similarity**"
      ],
      "metadata": {
        "id": "3_RuABBPjJw5"
      }
    },
    {
      "cell_type": "code",
      "source": [
        "import pickle\n",
        "\n",
        "# Simpan TF-IDF model\n",
        "with open('tfidf_vectorizer.pkl', 'wb') as f:\n",
        "    pickle.dump(tfidf_vectorizer, f)\n",
        "\n",
        "# Simpan cosine similarity matrix\n",
        "with open('cosine_similarity_matrix.pkl', 'wb') as f:\n",
        "    pickle.dump(cosine_sim, f)\n"
      ],
      "metadata": {
        "id": "7LaLhMjUyIND"
      },
      "execution_count": null,
      "outputs": []
    }
  ],
  "metadata": {
    "colab": {
      "provenance": [],
      "toc_visible": true
    },
    "kernelspec": {
      "display_name": "Python 3",
      "name": "python3"
    },
    "language_info": {
      "name": "python"
    }
  },
  "nbformat": 4,
  "nbformat_minor": 0
}